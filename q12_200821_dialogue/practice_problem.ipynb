{
 "cells": [
  {
   "cell_type": "markdown",
   "metadata": {},
   "source": [
    "# 실습 문제 : ConvLab 프레임워크를 이용한 대화시스템 모델 평가 및 모델 선택\n",
    "\n",
    "아래 코드에서는 이 실습문제에서 필요한 패키지를 import하고 helper function을 정의합니다."
   ]
  },
  {
   "cell_type": "code",
   "execution_count": 1,
   "metadata": {
    "colab": {},
    "colab_type": "code",
    "id": "OqzFlmCBCXEV",
    "tags": []
   },
   "outputs": [
    {
     "name": "stderr",
     "output_type": "stream",
     "text": [
      "/home/hanjy/anaconda3/envs/0813_dialogue_system_v5/lib/python3.7/site-packages/tensorflow/python/framework/dtypes.py:516: FutureWarning: Passing (type, 1) or '1type' as a synonym of type is deprecated; in a future version of numpy, it will be understood as (type, (1,)) / '(1,)type'.\n",
      "  _np_qint8 = np.dtype([(\"qint8\", np.int8, 1)])\n",
      "/home/hanjy/anaconda3/envs/0813_dialogue_system_v5/lib/python3.7/site-packages/tensorflow/python/framework/dtypes.py:517: FutureWarning: Passing (type, 1) or '1type' as a synonym of type is deprecated; in a future version of numpy, it will be understood as (type, (1,)) / '(1,)type'.\n",
      "  _np_quint8 = np.dtype([(\"quint8\", np.uint8, 1)])\n",
      "/home/hanjy/anaconda3/envs/0813_dialogue_system_v5/lib/python3.7/site-packages/tensorflow/python/framework/dtypes.py:518: FutureWarning: Passing (type, 1) or '1type' as a synonym of type is deprecated; in a future version of numpy, it will be understood as (type, (1,)) / '(1,)type'.\n",
      "  _np_qint16 = np.dtype([(\"qint16\", np.int16, 1)])\n",
      "/home/hanjy/anaconda3/envs/0813_dialogue_system_v5/lib/python3.7/site-packages/tensorflow/python/framework/dtypes.py:519: FutureWarning: Passing (type, 1) or '1type' as a synonym of type is deprecated; in a future version of numpy, it will be understood as (type, (1,)) / '(1,)type'.\n",
      "  _np_quint16 = np.dtype([(\"quint16\", np.uint16, 1)])\n",
      "/home/hanjy/anaconda3/envs/0813_dialogue_system_v5/lib/python3.7/site-packages/tensorflow/python/framework/dtypes.py:520: FutureWarning: Passing (type, 1) or '1type' as a synonym of type is deprecated; in a future version of numpy, it will be understood as (type, (1,)) / '(1,)type'.\n",
      "  _np_qint32 = np.dtype([(\"qint32\", np.int32, 1)])\n",
      "/home/hanjy/anaconda3/envs/0813_dialogue_system_v5/lib/python3.7/site-packages/tensorflow/python/framework/dtypes.py:525: FutureWarning: Passing (type, 1) or '1type' as a synonym of type is deprecated; in a future version of numpy, it will be understood as (type, (1,)) / '(1,)type'.\n",
      "  np_resource = np.dtype([(\"resource\", np.ubyte, 1)])\n",
      "/home/hanjy/anaconda3/envs/0813_dialogue_system_v5/lib/python3.7/site-packages/tensorboard/compat/tensorflow_stub/dtypes.py:541: FutureWarning: Passing (type, 1) or '1type' as a synonym of type is deprecated; in a future version of numpy, it will be understood as (type, (1,)) / '(1,)type'.\n",
      "  _np_qint8 = np.dtype([(\"qint8\", np.int8, 1)])\n",
      "/home/hanjy/anaconda3/envs/0813_dialogue_system_v5/lib/python3.7/site-packages/tensorboard/compat/tensorflow_stub/dtypes.py:542: FutureWarning: Passing (type, 1) or '1type' as a synonym of type is deprecated; in a future version of numpy, it will be understood as (type, (1,)) / '(1,)type'.\n",
      "  _np_quint8 = np.dtype([(\"quint8\", np.uint8, 1)])\n",
      "/home/hanjy/anaconda3/envs/0813_dialogue_system_v5/lib/python3.7/site-packages/tensorboard/compat/tensorflow_stub/dtypes.py:543: FutureWarning: Passing (type, 1) or '1type' as a synonym of type is deprecated; in a future version of numpy, it will be understood as (type, (1,)) / '(1,)type'.\n",
      "  _np_qint16 = np.dtype([(\"qint16\", np.int16, 1)])\n",
      "/home/hanjy/anaconda3/envs/0813_dialogue_system_v5/lib/python3.7/site-packages/tensorboard/compat/tensorflow_stub/dtypes.py:544: FutureWarning: Passing (type, 1) or '1type' as a synonym of type is deprecated; in a future version of numpy, it will be understood as (type, (1,)) / '(1,)type'.\n",
      "  _np_quint16 = np.dtype([(\"quint16\", np.uint16, 1)])\n",
      "/home/hanjy/anaconda3/envs/0813_dialogue_system_v5/lib/python3.7/site-packages/tensorboard/compat/tensorflow_stub/dtypes.py:545: FutureWarning: Passing (type, 1) or '1type' as a synonym of type is deprecated; in a future version of numpy, it will be understood as (type, (1,)) / '(1,)type'.\n",
      "  _np_qint32 = np.dtype([(\"qint32\", np.int32, 1)])\n",
      "/home/hanjy/anaconda3/envs/0813_dialogue_system_v5/lib/python3.7/site-packages/tensorboard/compat/tensorflow_stub/dtypes.py:550: FutureWarning: Passing (type, 1) or '1type' as a synonym of type is deprecated; in a future version of numpy, it will be understood as (type, (1,)) / '(1,)type'.\n",
      "  np_resource = np.dtype([(\"resource\", np.ubyte, 1)])\n"
     ]
    },
    {
     "name": "stdout",
     "output_type": "stream",
     "text": [
      "\u001b[38;5;2m✔ Download and installation successful\u001b[0m\n",
      "You can now load the model via spacy.load('en_core_web_sm')\n"
     ]
    }
   ],
   "source": [
    "from convlab2.nlu.jointBERT.multiwoz import BERTNLU\n",
    "from convlab2.nlu.milu.multiwoz import MILU\n",
    "from convlab2.dst.rule.multiwoz import RuleDST\n",
    "from convlab2.policy.rule.multiwoz import RulePolicy\n",
    "from convlab2.nlg.template.multiwoz import TemplateNLG\n",
    "from convlab2.dialog_agent import BiSession, PipelineAgent\n",
    "from convlab2.evaluator.multiwoz_eval import MultiWozEvaluator\n",
    "from pprint import pprint\n",
    "import random\n",
    "import numpy as np\n",
    "import torch\n",
    "import spacy\n",
    "\n",
    "import logging \n",
    "mpl_logger = logging.getLogger('matplotlib') \n",
    "mpl_logger.setLevel(logging.WARNING) \n",
    "cntp_logger = logging.getLogger('urllib3.connectionpool')\n",
    "cntp_logger.setLevel(logging.WARNING)\n",
    "ttu_logger = logging.getLogger('transformers.tokenization_utils')\n",
    "ttu_logger.setLevel(logging.WARNING)\n",
    "tcu_logger = logging.getLogger('transformers.configuration_utils')\n",
    "tcu_logger.setLevel(logging.WARNING)\n",
    "tmu_logger = logging.getLogger('transformers.modeling_utils')\n",
    "tmu_logger.setLevel(logging.WARNING)\n",
    "logging.getLogger().setLevel(logging.INFO)\n",
    "import warnings\n",
    "warnings.filterwarnings(\"ignore\")\n",
    "\n",
    "spacy.cli.download('en_core_web_sm')\n",
    "\n",
    "def set_seed(r_seed):\n",
    "    random.seed(r_seed)\n",
    "    np.random.seed(r_seed)\n",
    "    torch.manual_seed(r_seed)\n"
   ]
  },
  {
   "cell_type": "markdown",
   "metadata": {
    "colab_type": "text",
    "id": "CKOQs1l8LpTR"
   },
   "source": [
    "\n",
    "## ConvLab 에서 지원하는 모델들 load\n",
    "\n",
    "이용가능한 model들:\n",
    "\n",
    "- NLU: BERTNLU, MILU, SVMNLU\n",
    "- DST: RuleDST\n",
    "- Word-DST: SUMBT, TRADE (set `sys_nlu` to `None`)\n",
    "- Policy: RulePolicy, Imitation, REINFORCE, PPO, GDPL\n",
    "- Word-Policy: MDRG, HDSA, LaRL (set `sys_nlg` to `None`)\n",
    "- NLG: Template, SCLSTM\n",
    "- End2End: Sequicity, DAMD, RNN_rollout (directly used as `sys_agent`)\n",
    "- Simulator policy: Agenda, VHUS (for `user_policy`)\n"
   ]
  },
  {
   "cell_type": "markdown",
   "metadata": {},
   "source": [
    "아래 코드는 실습시간 때 사용했던 Step 3 코드들의 일부입니다."
   ]
  },
  {
   "cell_type": "code",
   "execution_count": 2,
   "metadata": {
    "colab": {},
    "colab_type": "code",
    "id": "G-9G0VYUNYOI",
    "tags": []
   },
   "outputs": [
    {
     "name": "stdout",
     "output_type": "stream",
     "text": [
      "Downloading from:  https://convlab.blob.core.windows.net/convlab-2/mdrg_model.zip\n",
      "Load from https://convlab.blob.core.windows.net/convlab-2/mdrg_model.zip\n"
     ]
    },
    {
     "name": "stderr",
     "output_type": "stream",
     "text": [
      "08/11/2020 19:32:50 - INFO - convlab2.util.allennlp_file_utils -   https://convlab.blob.core.windows.net/convlab-2/mdrg_model.zip not found in cache, downloading to /tmp/tmpaxbbg487\n",
      "100%|██████████| 21577107/21577107 [00:21<00:00, 1024368.30B/s]\n",
      "08/11/2020 19:33:12 - INFO - convlab2.util.allennlp_file_utils -   copying /tmp/tmpaxbbg487 to cache at /home/hanjy/.convlab2/cache/b0bc758ff68dc79ef5287ddd38b6267f8784df273b2e6f7e496a1e9031c65ca5.ea9a4a5a9034b22be1093ea89deb230956f14487e2c2441b9ee59cef0fc252a2\n",
      "08/11/2020 19:33:12 - INFO - convlab2.util.allennlp_file_utils -   creating metadata file for /home/hanjy/.convlab2/cache/b0bc758ff68dc79ef5287ddd38b6267f8784df273b2e6f7e496a1e9031c65ca5.ea9a4a5a9034b22be1093ea89deb230956f14487e2c2441b9ee59cef0fc252a2\n",
      "08/11/2020 19:33:12 - INFO - convlab2.util.allennlp_file_utils -   removing temp file /tmp/tmpaxbbg487\n"
     ]
    },
    {
     "name": "stdout",
     "output_type": "stream",
     "text": [
      "Extracting...\n",
      "Downloading from:  https://convlab.blob.core.windows.net/convlab-2/mdrg_data.zip\n",
      "Load from https://convlab.blob.core.windows.net/convlab-2/mdrg_data.zip\n"
     ]
    },
    {
     "name": "stderr",
     "output_type": "stream",
     "text": [
      "08/11/2020 19:33:13 - INFO - convlab2.util.allennlp_file_utils -   https://convlab.blob.core.windows.net/convlab-2/mdrg_data.zip not found in cache, downloading to /tmp/tmpeaog3ard\n",
      "100%|██████████| 47104409/47104409 [00:30<00:00, 1547625.65B/s]\n",
      "08/11/2020 19:33:44 - INFO - convlab2.util.allennlp_file_utils -   copying /tmp/tmpeaog3ard to cache at /home/hanjy/.convlab2/cache/00a406587d87174b74198f14cae25cd2054923a471c59233f27ec80caef23686.da1518d0f3a98f95e2be9aee8474275aa3e182c5b9faccf16e9deac38752afce\n",
      "08/11/2020 19:33:44 - INFO - convlab2.util.allennlp_file_utils -   creating metadata file for /home/hanjy/.convlab2/cache/00a406587d87174b74198f14cae25cd2054923a471c59233f27ec80caef23686.da1518d0f3a98f95e2be9aee8474275aa3e182c5b9faccf16e9deac38752afce\n",
      "08/11/2020 19:33:44 - INFO - convlab2.util.allennlp_file_utils -   removing temp file /tmp/tmpeaog3ard\n"
     ]
    },
    {
     "name": "stdout",
     "output_type": "stream",
     "text": [
      "Extracting...\n",
      "Downloading from:  https://convlab.blob.core.windows.net/convlab-2/mdrg_db.zip\n",
      "Load from https://convlab.blob.core.windows.net/convlab-2/mdrg_db.zip\n"
     ]
    },
    {
     "name": "stderr",
     "output_type": "stream",
     "text": [
      "08/11/2020 19:33:48 - INFO - convlab2.util.allennlp_file_utils -   https://convlab.blob.core.windows.net/convlab-2/mdrg_db.zip not found in cache, downloading to /tmp/tmpotpzv3zh\n",
      "100%|██████████| 183081/183081 [00:00<00:00, 463036.19B/s]\n",
      "08/11/2020 19:33:49 - INFO - convlab2.util.allennlp_file_utils -   copying /tmp/tmpotpzv3zh to cache at /home/hanjy/.convlab2/cache/a9766cc757fb79e7ac5266715dd065c687f884e5dc06840bba4d3b07307eb95b.b7bac7303e20c54957b367fa386215aaa595d5df9fb04341554b2067d458679c\n",
      "08/11/2020 19:33:49 - INFO - convlab2.util.allennlp_file_utils -   creating metadata file for /home/hanjy/.convlab2/cache/a9766cc757fb79e7ac5266715dd065c687f884e5dc06840bba4d3b07307eb95b.b7bac7303e20c54957b367fa386215aaa595d5df9fb04341554b2067d458679c\n",
      "08/11/2020 19:33:49 - INFO - convlab2.util.allennlp_file_utils -   removing temp file /tmp/tmpotpzv3zh\n"
     ]
    },
    {
     "name": "stdout",
     "output_type": "stream",
     "text": [
      "Extracting...\n"
     ]
    },
    {
     "name": "stderr",
     "output_type": "stream",
     "text": [
      "[nltk_data] Downloading package stopwords to /home/hanjy/nltk_data...\n",
      "[nltk_data]   Unzipping corpora/stopwords.zip.\n"
     ]
    },
    {
     "ename": "OSError",
     "evalue": "[E050] Can't find model 'en_core_web_sm'. It doesn't seem to be a shortcut link, a Python package or a valid path to a data directory.",
     "output_type": "error",
     "traceback": [
      "\u001b[0;31m---------------------------------------------------------------------------\u001b[0m",
      "\u001b[0;31mOSError\u001b[0m                                   Traceback (most recent call last)",
      "\u001b[0;32m<ipython-input-2-f37b252fb039>\u001b[0m in \u001b[0;36m<module>\u001b[0;34m\u001b[0m\n\u001b[1;32m     23\u001b[0m \u001b[0;32mfrom\u001b[0m \u001b[0mconvlab2\u001b[0m\u001b[0;34m.\u001b[0m\u001b[0me2e\u001b[0m\u001b[0;34m.\u001b[0m\u001b[0msequicity\u001b[0m\u001b[0;34m.\u001b[0m\u001b[0mmultiwoz\u001b[0m \u001b[0;32mimport\u001b[0m \u001b[0mSequicity\u001b[0m\u001b[0;34m\u001b[0m\u001b[0;34m\u001b[0m\u001b[0m\n\u001b[1;32m     24\u001b[0m \u001b[0;32mfrom\u001b[0m \u001b[0mconvlab2\u001b[0m\u001b[0;34m.\u001b[0m\u001b[0me2e\u001b[0m\u001b[0;34m.\u001b[0m\u001b[0mdamd\u001b[0m\u001b[0;34m.\u001b[0m\u001b[0mmultiwoz\u001b[0m \u001b[0;32mimport\u001b[0m \u001b[0mDamd\u001b[0m\u001b[0;34m\u001b[0m\u001b[0;34m\u001b[0m\u001b[0m\n\u001b[0;32m---> 25\u001b[0;31m \u001b[0mspacy\u001b[0m\u001b[0;34m.\u001b[0m\u001b[0mload\u001b[0m\u001b[0;34m(\u001b[0m\u001b[0;34m'en_core_web_sm'\u001b[0m\u001b[0;34m)\u001b[0m\u001b[0;34m\u001b[0m\u001b[0;34m\u001b[0m\u001b[0m\n\u001b[0m",
      "\u001b[0;32m~/anaconda3/envs/0813_dialogue_system_v5/lib/python3.7/site-packages/spacy/__init__.py\u001b[0m in \u001b[0;36mload\u001b[0;34m(name, **overrides)\u001b[0m\n\u001b[1;32m     20\u001b[0m     \u001b[0;32mif\u001b[0m \u001b[0mdepr_path\u001b[0m \u001b[0;32mnot\u001b[0m \u001b[0;32min\u001b[0m \u001b[0;34m(\u001b[0m\u001b[0;32mTrue\u001b[0m\u001b[0;34m,\u001b[0m \u001b[0;32mFalse\u001b[0m\u001b[0;34m,\u001b[0m \u001b[0;32mNone\u001b[0m\u001b[0;34m)\u001b[0m\u001b[0;34m:\u001b[0m\u001b[0;34m\u001b[0m\u001b[0;34m\u001b[0m\u001b[0m\n\u001b[1;32m     21\u001b[0m         \u001b[0mdeprecation_warning\u001b[0m\u001b[0;34m(\u001b[0m\u001b[0mWarnings\u001b[0m\u001b[0;34m.\u001b[0m\u001b[0mW001\u001b[0m\u001b[0;34m.\u001b[0m\u001b[0mformat\u001b[0m\u001b[0;34m(\u001b[0m\u001b[0mpath\u001b[0m\u001b[0;34m=\u001b[0m\u001b[0mdepr_path\u001b[0m\u001b[0;34m)\u001b[0m\u001b[0;34m)\u001b[0m\u001b[0;34m\u001b[0m\u001b[0;34m\u001b[0m\u001b[0m\n\u001b[0;32m---> 22\u001b[0;31m     \u001b[0;32mreturn\u001b[0m \u001b[0mutil\u001b[0m\u001b[0;34m.\u001b[0m\u001b[0mload_model\u001b[0m\u001b[0;34m(\u001b[0m\u001b[0mname\u001b[0m\u001b[0;34m,\u001b[0m \u001b[0;34m**\u001b[0m\u001b[0moverrides\u001b[0m\u001b[0;34m)\u001b[0m\u001b[0;34m\u001b[0m\u001b[0;34m\u001b[0m\u001b[0m\n\u001b[0m\u001b[1;32m     23\u001b[0m \u001b[0;34m\u001b[0m\u001b[0m\n\u001b[1;32m     24\u001b[0m \u001b[0;34m\u001b[0m\u001b[0m\n",
      "\u001b[0;32m~/anaconda3/envs/0813_dialogue_system_v5/lib/python3.7/site-packages/spacy/util.py\u001b[0m in \u001b[0;36mload_model\u001b[0;34m(name, **overrides)\u001b[0m\n\u001b[1;32m    134\u001b[0m     \u001b[0;32melif\u001b[0m \u001b[0mhasattr\u001b[0m\u001b[0;34m(\u001b[0m\u001b[0mname\u001b[0m\u001b[0;34m,\u001b[0m \u001b[0;34m\"exists\"\u001b[0m\u001b[0;34m)\u001b[0m\u001b[0;34m:\u001b[0m  \u001b[0;31m# Path or Path-like to model data\u001b[0m\u001b[0;34m\u001b[0m\u001b[0;34m\u001b[0m\u001b[0m\n\u001b[1;32m    135\u001b[0m         \u001b[0;32mreturn\u001b[0m \u001b[0mload_model_from_path\u001b[0m\u001b[0;34m(\u001b[0m\u001b[0mname\u001b[0m\u001b[0;34m,\u001b[0m \u001b[0;34m**\u001b[0m\u001b[0moverrides\u001b[0m\u001b[0;34m)\u001b[0m\u001b[0;34m\u001b[0m\u001b[0;34m\u001b[0m\u001b[0m\n\u001b[0;32m--> 136\u001b[0;31m     \u001b[0;32mraise\u001b[0m \u001b[0mIOError\u001b[0m\u001b[0;34m(\u001b[0m\u001b[0mErrors\u001b[0m\u001b[0;34m.\u001b[0m\u001b[0mE050\u001b[0m\u001b[0;34m.\u001b[0m\u001b[0mformat\u001b[0m\u001b[0;34m(\u001b[0m\u001b[0mname\u001b[0m\u001b[0;34m=\u001b[0m\u001b[0mname\u001b[0m\u001b[0;34m)\u001b[0m\u001b[0;34m)\u001b[0m\u001b[0;34m\u001b[0m\u001b[0;34m\u001b[0m\u001b[0m\n\u001b[0m\u001b[1;32m    137\u001b[0m \u001b[0;34m\u001b[0m\u001b[0m\n\u001b[1;32m    138\u001b[0m \u001b[0;34m\u001b[0m\u001b[0m\n",
      "\u001b[0;31mOSError\u001b[0m: [E050] Can't find model 'en_core_web_sm'. It doesn't seem to be a shortcut link, a Python package or a valid path to a data directory."
     ]
    }
   ],
   "source": [
    "# available NLU models\n",
    "from convlab2.nlu.svm.multiwoz import SVMNLU\n",
    "from convlab2.nlu.jointBERT.multiwoz import BERTNLU\n",
    "from convlab2.nlu.milu.multiwoz import MILU\n",
    "# available DST models\n",
    "from convlab2.dst.rule.multiwoz import RuleDST\n",
    "#from convlab2.dst.mdbt.multiwoz import MDBT\n",
    "from convlab2.dst.sumbt.multiwoz import SUMBT\n",
    "from convlab2.dst.trade.multiwoz import TRADE\n",
    "# available Policy models\n",
    "from convlab2.policy.rule.multiwoz import RulePolicy\n",
    "from convlab2.policy.ppo.multiwoz import PPOPolicy\n",
    "from convlab2.policy.pg.multiwoz import PGPolicy\n",
    "from convlab2.policy.mle.multiwoz import MLEPolicy\n",
    "from convlab2.policy.gdpl.multiwoz import GDPLPolicy\n",
    "from convlab2.policy.mdrg.multiwoz import MDRGWordPolicy\n",
    "from convlab2.policy.hdsa.multiwoz import HDSA\n",
    "from convlab2.policy.larl.multiwoz import LaRL\n",
    "# available NLG models\n",
    "from convlab2.nlg.template.multiwoz import TemplateNLG\n",
    "from convlab2.nlg.sclstm.multiwoz import SCLSTM\n",
    "# available E2E models\n",
    "from convlab2.e2e.sequicity.multiwoz import Sequicity\n",
    "from convlab2.e2e.damd.multiwoz import Damd\n",
    "spacy.load('en_core_web_sm')"
   ]
  },
  {
   "cell_type": "code",
   "execution_count": 3,
   "metadata": {},
   "outputs": [
    {
     "ename": "OSError",
     "evalue": "[E050] Can't find model 'en_core_web_sm'. It doesn't seem to be a shortcut link, a Python package or a valid path to a data directory.",
     "output_type": "error",
     "traceback": [
      "\u001b[0;31m---------------------------------------------------------------------------\u001b[0m",
      "\u001b[0;31mOSError\u001b[0m                                   Traceback (most recent call last)",
      "\u001b[0;32m<ipython-input-3-ec4f59b9cf67>\u001b[0m in \u001b[0;36m<module>\u001b[0;34m\u001b[0m\n\u001b[0;32m----> 1\u001b[0;31m \u001b[0mspacy\u001b[0m\u001b[0;34m.\u001b[0m\u001b[0mload\u001b[0m\u001b[0;34m(\u001b[0m\u001b[0;34m'en_core_web_sm'\u001b[0m\u001b[0;34m)\u001b[0m\u001b[0;34m\u001b[0m\u001b[0;34m\u001b[0m\u001b[0m\n\u001b[0m",
      "\u001b[0;32m~/anaconda3/envs/0813_dialogue_system_v5/lib/python3.7/site-packages/spacy/__init__.py\u001b[0m in \u001b[0;36mload\u001b[0;34m(name, **overrides)\u001b[0m\n\u001b[1;32m     20\u001b[0m     \u001b[0;32mif\u001b[0m \u001b[0mdepr_path\u001b[0m \u001b[0;32mnot\u001b[0m \u001b[0;32min\u001b[0m \u001b[0;34m(\u001b[0m\u001b[0;32mTrue\u001b[0m\u001b[0;34m,\u001b[0m \u001b[0;32mFalse\u001b[0m\u001b[0;34m,\u001b[0m \u001b[0;32mNone\u001b[0m\u001b[0;34m)\u001b[0m\u001b[0;34m:\u001b[0m\u001b[0;34m\u001b[0m\u001b[0;34m\u001b[0m\u001b[0m\n\u001b[1;32m     21\u001b[0m         \u001b[0mdeprecation_warning\u001b[0m\u001b[0;34m(\u001b[0m\u001b[0mWarnings\u001b[0m\u001b[0;34m.\u001b[0m\u001b[0mW001\u001b[0m\u001b[0;34m.\u001b[0m\u001b[0mformat\u001b[0m\u001b[0;34m(\u001b[0m\u001b[0mpath\u001b[0m\u001b[0;34m=\u001b[0m\u001b[0mdepr_path\u001b[0m\u001b[0;34m)\u001b[0m\u001b[0;34m)\u001b[0m\u001b[0;34m\u001b[0m\u001b[0;34m\u001b[0m\u001b[0m\n\u001b[0;32m---> 22\u001b[0;31m     \u001b[0;32mreturn\u001b[0m \u001b[0mutil\u001b[0m\u001b[0;34m.\u001b[0m\u001b[0mload_model\u001b[0m\u001b[0;34m(\u001b[0m\u001b[0mname\u001b[0m\u001b[0;34m,\u001b[0m \u001b[0;34m**\u001b[0m\u001b[0moverrides\u001b[0m\u001b[0;34m)\u001b[0m\u001b[0;34m\u001b[0m\u001b[0;34m\u001b[0m\u001b[0m\n\u001b[0m\u001b[1;32m     23\u001b[0m \u001b[0;34m\u001b[0m\u001b[0m\n\u001b[1;32m     24\u001b[0m \u001b[0;34m\u001b[0m\u001b[0m\n",
      "\u001b[0;32m~/anaconda3/envs/0813_dialogue_system_v5/lib/python3.7/site-packages/spacy/util.py\u001b[0m in \u001b[0;36mload_model\u001b[0;34m(name, **overrides)\u001b[0m\n\u001b[1;32m    134\u001b[0m     \u001b[0;32melif\u001b[0m \u001b[0mhasattr\u001b[0m\u001b[0;34m(\u001b[0m\u001b[0mname\u001b[0m\u001b[0;34m,\u001b[0m \u001b[0;34m\"exists\"\u001b[0m\u001b[0;34m)\u001b[0m\u001b[0;34m:\u001b[0m  \u001b[0;31m# Path or Path-like to model data\u001b[0m\u001b[0;34m\u001b[0m\u001b[0;34m\u001b[0m\u001b[0m\n\u001b[1;32m    135\u001b[0m         \u001b[0;32mreturn\u001b[0m \u001b[0mload_model_from_path\u001b[0m\u001b[0;34m(\u001b[0m\u001b[0mname\u001b[0m\u001b[0;34m,\u001b[0m \u001b[0;34m**\u001b[0m\u001b[0moverrides\u001b[0m\u001b[0;34m)\u001b[0m\u001b[0;34m\u001b[0m\u001b[0;34m\u001b[0m\u001b[0m\n\u001b[0;32m--> 136\u001b[0;31m     \u001b[0;32mraise\u001b[0m \u001b[0mIOError\u001b[0m\u001b[0;34m(\u001b[0m\u001b[0mErrors\u001b[0m\u001b[0;34m.\u001b[0m\u001b[0mE050\u001b[0m\u001b[0;34m.\u001b[0m\u001b[0mformat\u001b[0m\u001b[0;34m(\u001b[0m\u001b[0mname\u001b[0m\u001b[0;34m=\u001b[0m\u001b[0mname\u001b[0m\u001b[0;34m)\u001b[0m\u001b[0;34m)\u001b[0m\u001b[0;34m\u001b[0m\u001b[0;34m\u001b[0m\u001b[0m\n\u001b[0m\u001b[1;32m    137\u001b[0m \u001b[0;34m\u001b[0m\u001b[0m\n\u001b[1;32m    138\u001b[0m \u001b[0;34m\u001b[0m\u001b[0m\n",
      "\u001b[0;31mOSError\u001b[0m: [E050] Can't find model 'en_core_web_sm'. It doesn't seem to be a shortcut link, a Python package or a valid path to a data directory."
     ]
    }
   ],
   "source": [
    "spacy.load('en_core_web_sm')"
   ]
  },
  {
   "cell_type": "markdown",
   "metadata": {
    "colab_type": "text",
    "id": "6TS2_Tp1Nzvq"
   },
   "source": [
    "\n",
    "Word-DST 모델들은 NLU와 DST가 합쳐진 모델을 의미합니다. 따라서, 별도의 NLU 모델 없이 사용할 수 있습니다.\n",
    "\n",
    "따라서, (1) NLU+RuleDST 또는 (2) Word-DST 로 조합이 가능합니다.\n",
    "\n",
    "[주의!] Word-DST 의 경우 sys_nlu = None 이어야 합니다.\n",
    "\n",
    "Word-Policy 모델들은 Dialogue Policy 와 NLG 가 합쳐진 모델을 의미합니다. 따라서 별도의 NLG 모델없이 사용할 수 있습니다.\n",
    "\n",
    "따라서, (1) Policy+NLG 또는 Word-Policy 로 조합이 가능합니다.\n",
    "\n",
    "[주의!] Word-Policy 의 경우 sys_nlg = None 이어야 합니다.\n"
   ]
  },
  {
   "cell_type": "markdown",
   "metadata": {},
   "source": [
    "아래 코드는 system module들의 예시입니다."
   ]
  },
  {
   "cell_type": "code",
   "execution_count": 4,
   "metadata": {
    "colab": {},
    "colab_type": "code",
    "id": "DZMk9wAlONrz",
    "tags": [
     "outputPrepend"
    ]
   },
   "outputs": [
    {
     "name": "stdout",
     "output_type": "stream",
     "text": [
      "Load from https://convlab.blob.core.windows.net/convlab-2/milu_multiwoz_all_context.tar.gz\n"
     ]
    },
    {
     "name": "stderr",
     "output_type": "stream",
     "text": [
      "08/11/2020 19:40:05 - INFO - convlab2.util.allennlp_file_utils -   https://convlab.blob.core.windows.net/convlab-2/milu_multiwoz_all_context.tar.gz not found in cache, downloading to /tmp/tmpludctzgr\n",
      "100%|██████████| 10943993/10943993 [00:05<00:00, 2095005.21B/s]\n",
      "08/11/2020 19:40:11 - INFO - convlab2.util.allennlp_file_utils -   copying /tmp/tmpludctzgr to cache at /home/hanjy/.convlab2/cache/adeae6e5151198de3b1634fcb630a0243cd2e098a75703260c4489c6e92a5f51.4fff038b1c36dbb489d93575f604cf72276b651ac6b370b5a48f8f67df2ed971\n",
      "08/11/2020 19:40:11 - INFO - convlab2.util.allennlp_file_utils -   creating metadata file for /home/hanjy/.convlab2/cache/adeae6e5151198de3b1634fcb630a0243cd2e098a75703260c4489c6e92a5f51.4fff038b1c36dbb489d93575f604cf72276b651ac6b370b5a48f8f67df2ed971\n",
      "08/11/2020 19:40:11 - INFO - convlab2.util.allennlp_file_utils -   removing temp file /tmp/tmpludctzgr\n",
      "08/11/2020 19:40:11 - INFO - allennlp.models.archival -   loading archive file /home/hanjy/.convlab2/cache/adeae6e5151198de3b1634fcb630a0243cd2e098a75703260c4489c6e92a5f51.4fff038b1c36dbb489d93575f604cf72276b651ac6b370b5a48f8f67df2ed971\n",
      "08/11/2020 19:40:11 - INFO - allennlp.models.archival -   extracting archive file /home/hanjy/.convlab2/cache/adeae6e5151198de3b1634fcb630a0243cd2e098a75703260c4489c6e92a5f51.4fff038b1c36dbb489d93575f604cf72276b651ac6b370b5a48f8f67df2ed971 to temp dir /tmp/tmpfv72vg7a\n",
      "08/11/2020 19:40:11 - INFO - allennlp.common.registrable -   instantiating registered subclass milu of <class 'allennlp.models.model.Model'>\n",
      "08/11/2020 19:40:11 - INFO - allennlp.common.params -   type = default\n",
      "08/11/2020 19:40:11 - INFO - allennlp.common.registrable -   instantiating registered subclass default of <class 'allennlp.data.vocabulary.Vocabulary'>\n",
      "08/11/2020 19:40:11 - INFO - allennlp.data.vocabulary -   Loading token dictionary from /tmp/tmpfv72vg7a/vocabulary.\n",
      "08/11/2020 19:40:11 - INFO - allennlp.common.from_params -   instantiating class <class 'allennlp.models.model.Model'> from params {'attention': {'matrix_dim': 400, 'type': 'bilinear', 'vector_dim': 400}, 'attention_for_intent': False, 'attention_for_tag': False, 'context_for_intent': True, 'context_for_tag': False, 'dropout': 0.3, 'encoder': {'bidirectional': True, 'dropout': 0.5, 'hidden_size': 200, 'input_size': 178, 'num_layers': 1, 'type': 'lstm'}, 'include_start_end_transitions': False, 'intent_encoder': {'bidirectional': True, 'dropout': 0.5, 'hidden_size': 200, 'input_size': 400, 'num_layers': 1, 'type': 'lstm'}, 'label_encoding': 'BIO', 'regularizer': [['scalar_parameters', {'alpha': 0.1, 'type': 'l2'}]], 'text_field_embedder': {'token_embedders': {'token_characters': {'embedding': {'embedding_dim': 16}, 'encoder': {'conv_layer_activation': 'relu', 'embedding_dim': 16, 'ngram_filter_sizes': [3], 'num_filters': 128, 'type': 'cnn'}, 'type': 'character_encoding'}, 'tokens': {'embedding_dim': 50, 'trainable': True, 'type': 'embedding'}}}, 'type': 'milu'} and extras {'vocab'}\n",
      "08/11/2020 19:40:11 - INFO - allennlp.common.params -   model.type = milu\n",
      "08/11/2020 19:40:11 - INFO - allennlp.common.from_params -   instantiating class <class 'convlab2.nlu.milu.model.MILU'> from params {'attention': {'matrix_dim': 400, 'type': 'bilinear', 'vector_dim': 400}, 'attention_for_intent': False, 'attention_for_tag': False, 'context_for_intent': True, 'context_for_tag': False, 'dropout': 0.3, 'encoder': {'bidirectional': True, 'dropout': 0.5, 'hidden_size': 200, 'input_size': 178, 'num_layers': 1, 'type': 'lstm'}, 'include_start_end_transitions': False, 'intent_encoder': {'bidirectional': True, 'dropout': 0.5, 'hidden_size': 200, 'input_size': 400, 'num_layers': 1, 'type': 'lstm'}, 'label_encoding': 'BIO', 'regularizer': [['scalar_parameters', {'alpha': 0.1, 'type': 'l2'}]], 'text_field_embedder': {'token_embedders': {'token_characters': {'embedding': {'embedding_dim': 16}, 'encoder': {'conv_layer_activation': 'relu', 'embedding_dim': 16, 'ngram_filter_sizes': [3], 'num_filters': 128, 'type': 'cnn'}, 'type': 'character_encoding'}, 'tokens': {'embedding_dim': 50, 'trainable': True, 'type': 'embedding'}}}} and extras {'vocab'}\n",
      "08/11/2020 19:40:11 - INFO - allennlp.common.from_params -   instantiating class <class 'allennlp.modules.text_field_embedders.text_field_embedder.TextFieldEmbedder'> from params {'token_embedders': {'token_characters': {'embedding': {'embedding_dim': 16}, 'encoder': {'conv_layer_activation': 'relu', 'embedding_dim': 16, 'ngram_filter_sizes': [3], 'num_filters': 128, 'type': 'cnn'}, 'type': 'character_encoding'}, 'tokens': {'embedding_dim': 50, 'trainable': True, 'type': 'embedding'}}} and extras {'vocab'}\n",
      "08/11/2020 19:40:11 - INFO - allennlp.common.params -   model.text_field_embedder.type = basic\n",
      "08/11/2020 19:40:11 - INFO - allennlp.common.params -   model.text_field_embedder.embedder_to_indexer_map = None\n",
      "08/11/2020 19:40:11 - INFO - allennlp.common.params -   model.text_field_embedder.allow_unmatched_keys = False\n",
      "08/11/2020 19:40:11 - INFO - allennlp.common.from_params -   instantiating class <class 'allennlp.modules.token_embedders.token_embedder.TokenEmbedder'> from params {'embedding': {'embedding_dim': 16}, 'encoder': {'conv_layer_activation': 'relu', 'embedding_dim': 16, 'ngram_filter_sizes': [3], 'num_filters': 128, 'type': 'cnn'}, 'type': 'character_encoding'} and extras {'vocab'}\n",
      "08/11/2020 19:40:11 - INFO - allennlp.common.params -   model.text_field_embedder.token_embedders.token_characters.type = character_encoding\n",
      "08/11/2020 19:40:11 - INFO - allennlp.common.params -   model.text_field_embedder.token_embedders.token_characters.embedding.num_embeddings = None\n",
      "08/11/2020 19:40:11 - INFO - allennlp.common.params -   model.text_field_embedder.token_embedders.token_characters.embedding.vocab_namespace = token_characters\n",
      "08/11/2020 19:40:11 - INFO - allennlp.common.params -   model.text_field_embedder.token_embedders.token_characters.embedding.embedding_dim = 16\n",
      "08/11/2020 19:40:11 - INFO - allennlp.common.params -   model.text_field_embedder.token_embedders.token_characters.embedding.pretrained_file = None\n",
      "08/11/2020 19:40:11 - INFO - allennlp.common.params -   model.text_field_embedder.token_embedders.token_characters.embedding.projection_dim = None\n",
      "08/11/2020 19:40:11 - INFO - allennlp.common.params -   model.text_field_embedder.token_embedders.token_characters.embedding.trainable = True\n",
      "08/11/2020 19:40:11 - INFO - allennlp.common.params -   model.text_field_embedder.token_embedders.token_characters.embedding.padding_index = None\n",
      "08/11/2020 19:40:11 - INFO - allennlp.common.params -   model.text_field_embedder.token_embedders.token_characters.embedding.max_norm = None\n",
      "08/11/2020 19:40:11 - INFO - allennlp.common.params -   model.text_field_embedder.token_embedders.token_characters.embedding.norm_type = 2.0\n",
      "08/11/2020 19:40:11 - INFO - allennlp.common.params -   model.text_field_embedder.token_embedders.token_characters.embedding.scale_grad_by_freq = False\n",
      "08/11/2020 19:40:11 - INFO - allennlp.common.params -   model.text_field_embedder.token_embedders.token_characters.embedding.sparse = False\n",
      "08/11/2020 19:40:11 - INFO - allennlp.common.from_params -   instantiating class <class 'allennlp.modules.seq2vec_encoders.seq2vec_encoder.Seq2VecEncoder'> from params {'conv_layer_activation': 'relu', 'embedding_dim': 16, 'ngram_filter_sizes': [3], 'num_filters': 128, 'type': 'cnn'} and extras set()\n",
      "08/11/2020 19:40:11 - INFO - allennlp.common.params -   model.text_field_embedder.token_embedders.token_characters.encoder.type = cnn\n",
      "08/11/2020 19:40:11 - INFO - allennlp.common.from_params -   instantiating class <class 'allennlp.modules.seq2vec_encoders.cnn_encoder.CnnEncoder'> from params {'conv_layer_activation': 'relu', 'embedding_dim': 16, 'ngram_filter_sizes': [3], 'num_filters': 128} and extras set()\n",
      "08/11/2020 19:40:11 - INFO - allennlp.common.params -   model.text_field_embedder.token_embedders.token_characters.encoder.embedding_dim = 16\n",
      "08/11/2020 19:40:11 - INFO - allennlp.common.params -   model.text_field_embedder.token_embedders.token_characters.encoder.num_filters = 128\n",
      "08/11/2020 19:40:11 - INFO - allennlp.common.params -   model.text_field_embedder.token_embedders.token_characters.encoder.ngram_filter_sizes = [3]\n"
     ]
    },
    {
     "name": "stderr",
     "output_type": "stream",
     "text": [
      "08/11/2020 19:40:11 - INFO - allennlp.common.params -   model.text_field_embedder.token_embedders.token_characters.encoder.conv_layer_activation = relu\n",
      "08/11/2020 19:40:11 - INFO - allennlp.common.registrable -   instantiating registered subclass relu of <class 'allennlp.nn.activations.Activation'>\n",
      "08/11/2020 19:40:11 - INFO - allennlp.common.params -   model.text_field_embedder.token_embedders.token_characters.encoder.output_dim = None\n",
      "08/11/2020 19:40:11 - INFO - allennlp.common.params -   model.text_field_embedder.token_embedders.token_characters.dropout = 0.0\n",
      "08/11/2020 19:40:11 - INFO - allennlp.common.from_params -   instantiating class <class 'allennlp.modules.token_embedders.token_embedder.TokenEmbedder'> from params {'embedding_dim': 50, 'trainable': True, 'type': 'embedding'} and extras {'vocab'}\n",
      "08/11/2020 19:40:11 - INFO - allennlp.common.params -   model.text_field_embedder.token_embedders.tokens.type = embedding\n",
      "08/11/2020 19:40:11 - INFO - allennlp.common.params -   model.text_field_embedder.token_embedders.tokens.num_embeddings = None\n",
      "08/11/2020 19:40:11 - INFO - allennlp.common.params -   model.text_field_embedder.token_embedders.tokens.vocab_namespace = tokens\n",
      "08/11/2020 19:40:11 - INFO - allennlp.common.params -   model.text_field_embedder.token_embedders.tokens.embedding_dim = 50\n",
      "08/11/2020 19:40:11 - INFO - allennlp.common.params -   model.text_field_embedder.token_embedders.tokens.pretrained_file = None\n",
      "08/11/2020 19:40:11 - INFO - allennlp.common.params -   model.text_field_embedder.token_embedders.tokens.projection_dim = None\n",
      "08/11/2020 19:40:11 - INFO - allennlp.common.params -   model.text_field_embedder.token_embedders.tokens.trainable = True\n",
      "08/11/2020 19:40:11 - INFO - allennlp.common.params -   model.text_field_embedder.token_embedders.tokens.padding_index = None\n",
      "08/11/2020 19:40:11 - INFO - allennlp.common.params -   model.text_field_embedder.token_embedders.tokens.max_norm = None\n",
      "08/11/2020 19:40:11 - INFO - allennlp.common.params -   model.text_field_embedder.token_embedders.tokens.norm_type = 2.0\n",
      "08/11/2020 19:40:11 - INFO - allennlp.common.params -   model.text_field_embedder.token_embedders.tokens.scale_grad_by_freq = False\n",
      "08/11/2020 19:40:11 - INFO - allennlp.common.params -   model.text_field_embedder.token_embedders.tokens.sparse = False\n",
      "08/11/2020 19:40:11 - INFO - allennlp.common.from_params -   instantiating class <class 'allennlp.modules.seq2seq_encoders.seq2seq_encoder.Seq2SeqEncoder'> from params {'bidirectional': True, 'dropout': 0.5, 'hidden_size': 200, 'input_size': 178, 'num_layers': 1, 'type': 'lstm'} and extras {'vocab'}\n",
      "08/11/2020 19:40:11 - INFO - allennlp.common.params -   model.encoder.type = lstm\n",
      "08/11/2020 19:40:11 - INFO - allennlp.common.params -   model.encoder.batch_first = True\n",
      "08/11/2020 19:40:11 - INFO - allennlp.common.params -   model.encoder.stateful = False\n",
      "08/11/2020 19:40:11 - INFO - allennlp.common.params -   Converting Params object to dict; logging of default values will not occur when dictionary parameters are used subsequently.\n",
      "08/11/2020 19:40:11 - INFO - allennlp.common.params -   CURRENTLY DEFINED PARAMETERS: \n",
      "08/11/2020 19:40:11 - INFO - allennlp.common.params -   model.encoder.bidirectional = True\n",
      "08/11/2020 19:40:11 - INFO - allennlp.common.params -   model.encoder.dropout = 0.5\n",
      "08/11/2020 19:40:11 - INFO - allennlp.common.params -   model.encoder.hidden_size = 200\n",
      "08/11/2020 19:40:11 - INFO - allennlp.common.params -   model.encoder.input_size = 178\n",
      "08/11/2020 19:40:11 - INFO - allennlp.common.params -   model.encoder.num_layers = 1\n",
      "08/11/2020 19:40:11 - INFO - allennlp.common.params -   model.encoder.batch_first = True\n",
      "08/11/2020 19:40:11 - INFO - allennlp.common.from_params -   instantiating class <class 'allennlp.modules.seq2seq_encoders.seq2seq_encoder.Seq2SeqEncoder'> from params {'bidirectional': True, 'dropout': 0.5, 'hidden_size': 200, 'input_size': 400, 'num_layers': 1, 'type': 'lstm'} and extras {'vocab'}\n",
      "08/11/2020 19:40:11 - INFO - allennlp.common.params -   model.intent_encoder.type = lstm\n",
      "08/11/2020 19:40:11 - INFO - allennlp.common.params -   model.intent_encoder.batch_first = True\n",
      "08/11/2020 19:40:11 - INFO - allennlp.common.params -   model.intent_encoder.stateful = False\n",
      "08/11/2020 19:40:11 - INFO - allennlp.common.params -   Converting Params object to dict; logging of default values will not occur when dictionary parameters are used subsequently.\n",
      "08/11/2020 19:40:11 - INFO - allennlp.common.params -   CURRENTLY DEFINED PARAMETERS: \n",
      "08/11/2020 19:40:11 - INFO - allennlp.common.params -   model.intent_encoder.bidirectional = True\n",
      "08/11/2020 19:40:11 - INFO - allennlp.common.params -   model.intent_encoder.dropout = 0.5\n",
      "08/11/2020 19:40:11 - INFO - allennlp.common.params -   model.intent_encoder.hidden_size = 200\n",
      "08/11/2020 19:40:11 - INFO - allennlp.common.params -   model.intent_encoder.input_size = 400\n",
      "08/11/2020 19:40:11 - INFO - allennlp.common.params -   model.intent_encoder.num_layers = 1\n",
      "08/11/2020 19:40:11 - INFO - allennlp.common.params -   model.intent_encoder.batch_first = True\n",
      "08/11/2020 19:40:11 - INFO - allennlp.common.from_params -   instantiating class <class 'allennlp.modules.attention.attention.Attention'> from params {'matrix_dim': 400, 'type': 'bilinear', 'vector_dim': 400} and extras {'vocab'}\n",
      "08/11/2020 19:40:11 - INFO - allennlp.common.params -   model.attention.type = bilinear\n",
      "08/11/2020 19:40:11 - INFO - allennlp.common.from_params -   instantiating class <class 'allennlp.modules.attention.bilinear_attention.BilinearAttention'> from params {'matrix_dim': 400, 'vector_dim': 400} and extras {'vocab'}\n",
      "08/11/2020 19:40:11 - INFO - allennlp.common.params -   model.attention.vector_dim = 400\n",
      "08/11/2020 19:40:11 - INFO - allennlp.common.params -   model.attention.matrix_dim = 400\n",
      "08/11/2020 19:40:11 - INFO - allennlp.common.params -   model.attention.normalize = True\n",
      "08/11/2020 19:40:11 - INFO - allennlp.common.registrable -   instantiating registered subclass linear of <class 'allennlp.nn.activations.Activation'>\n",
      "08/11/2020 19:40:11 - INFO - allennlp.common.params -   model.context_for_intent = True\n",
      "08/11/2020 19:40:11 - INFO - allennlp.common.params -   model.context_for_tag = False\n",
      "08/11/2020 19:40:11 - INFO - allennlp.common.params -   model.attention_for_intent = False\n",
      "08/11/2020 19:40:11 - INFO - allennlp.common.params -   model.attention_for_tag = False\n",
      "08/11/2020 19:40:11 - INFO - allennlp.common.params -   model.sequence_label_namespace = labels\n",
      "08/11/2020 19:40:11 - INFO - allennlp.common.params -   model.intent_label_namespace = intent_labels\n",
      "08/11/2020 19:40:11 - INFO - allennlp.common.params -   model.label_encoding = BIO\n",
      "08/11/2020 19:40:11 - INFO - allennlp.common.params -   model.include_start_end_transitions = False\n",
      "08/11/2020 19:40:11 - INFO - allennlp.common.params -   model.crf_decoding = False\n",
      "08/11/2020 19:40:11 - INFO - allennlp.common.params -   model.constrain_crf_decoding = None\n",
      "08/11/2020 19:40:11 - INFO - allennlp.common.params -   model.focal_loss_gamma = None\n",
      "08/11/2020 19:40:11 - INFO - allennlp.common.params -   model.nongeneral_intent_weight = 5.0\n",
      "08/11/2020 19:40:11 - INFO - allennlp.common.params -   model.num_train_examples = None\n",
      "08/11/2020 19:40:11 - INFO - allennlp.common.params -   model.calculate_span_f1 = None\n",
      "08/11/2020 19:40:11 - INFO - allennlp.common.params -   model.dropout = 0.3\n",
      "08/11/2020 19:40:11 - INFO - allennlp.common.params -   model.verbose_metrics = False\n",
      "08/11/2020 19:40:11 - INFO - allennlp.common.params -   model.regularizer.0.1.type = l2\n",
      "08/11/2020 19:40:11 - INFO - allennlp.common.registrable -   instantiating registered subclass l2 of <class 'allennlp.nn.regularizers.regularizer.Regularizer'>\n",
      "08/11/2020 19:40:11 - INFO - allennlp.nn.initializers -   Initializing parameters\n",
      "08/11/2020 19:40:11 - INFO - allennlp.nn.initializers -   Done initializing parameters; the following parameters are using their default initialization from their code\n",
      "08/11/2020 19:40:11 - INFO - allennlp.nn.initializers -      attention._bias\n",
      "08/11/2020 19:40:11 - INFO - allennlp.nn.initializers -      attention._weight_matrix\n",
      "08/11/2020 19:40:11 - INFO - allennlp.nn.initializers -      encoder._module.bias_hh_l0\n"
     ]
    },
    {
     "name": "stderr",
     "output_type": "stream",
     "text": [
      "08/11/2020 19:40:11 - INFO - allennlp.nn.initializers -      encoder._module.bias_hh_l0_reverse\n",
      "08/11/2020 19:40:11 - INFO - allennlp.nn.initializers -      encoder._module.bias_ih_l0\n",
      "08/11/2020 19:40:11 - INFO - allennlp.nn.initializers -      encoder._module.bias_ih_l0_reverse\n",
      "08/11/2020 19:40:11 - INFO - allennlp.nn.initializers -      encoder._module.weight_hh_l0\n",
      "08/11/2020 19:40:11 - INFO - allennlp.nn.initializers -      encoder._module.weight_hh_l0_reverse\n",
      "08/11/2020 19:40:11 - INFO - allennlp.nn.initializers -      encoder._module.weight_ih_l0\n",
      "08/11/2020 19:40:11 - INFO - allennlp.nn.initializers -      encoder._module.weight_ih_l0_reverse\n",
      "08/11/2020 19:40:11 - INFO - allennlp.nn.initializers -      intent_encoder._module.bias_hh_l0\n",
      "08/11/2020 19:40:11 - INFO - allennlp.nn.initializers -      intent_encoder._module.bias_hh_l0_reverse\n",
      "08/11/2020 19:40:11 - INFO - allennlp.nn.initializers -      intent_encoder._module.bias_ih_l0\n",
      "08/11/2020 19:40:11 - INFO - allennlp.nn.initializers -      intent_encoder._module.bias_ih_l0_reverse\n",
      "08/11/2020 19:40:11 - INFO - allennlp.nn.initializers -      intent_encoder._module.weight_hh_l0\n",
      "08/11/2020 19:40:11 - INFO - allennlp.nn.initializers -      intent_encoder._module.weight_hh_l0_reverse\n",
      "08/11/2020 19:40:11 - INFO - allennlp.nn.initializers -      intent_encoder._module.weight_ih_l0\n",
      "08/11/2020 19:40:11 - INFO - allennlp.nn.initializers -      intent_encoder._module.weight_ih_l0_reverse\n",
      "08/11/2020 19:40:11 - INFO - allennlp.nn.initializers -      intent_projection_layer.bias\n",
      "08/11/2020 19:40:11 - INFO - allennlp.nn.initializers -      intent_projection_layer.weight\n",
      "08/11/2020 19:40:11 - INFO - allennlp.nn.initializers -      tag_projection_layer._module.bias\n",
      "08/11/2020 19:40:11 - INFO - allennlp.nn.initializers -      tag_projection_layer._module.weight\n",
      "08/11/2020 19:40:11 - INFO - allennlp.nn.initializers -      text_field_embedder.token_embedder_token_characters._embedding._module.weight\n",
      "08/11/2020 19:40:11 - INFO - allennlp.nn.initializers -      text_field_embedder.token_embedder_token_characters._encoder._module.conv_layer_0.bias\n",
      "08/11/2020 19:40:11 - INFO - allennlp.nn.initializers -      text_field_embedder.token_embedder_token_characters._encoder._module.conv_layer_0.weight\n",
      "08/11/2020 19:40:11 - INFO - allennlp.nn.initializers -      text_field_embedder.token_embedder_tokens.weight\n",
      "08/11/2020 19:40:14 - WARNING - allennlp.common.util -   Spacy models 'en_core_web_sm' not found.  Downloading and installing.\n"
     ]
    },
    {
     "name": "stdout",
     "output_type": "stream",
     "text": [
      "\u001b[38;5;2m✔ Download and installation successful\u001b[0m\n",
      "You can now load the model via spacy.load('en_core_web_sm')\n",
      "\u001b[38;5;2m✔ Linking successful\u001b[0m\n",
      "/home/hanjy/anaconda3/envs/0813_dialogue_system_v5/lib/python3.7/site-packages/en_core_web_sm\n",
      "-->\n",
      "/home/hanjy/anaconda3/envs/0813_dialogue_system_v5/lib/python3.7/site-packages/spacy/data/en_core_web_sm\n",
      "You can now load the model via spacy.load('en_core_web_sm')\n"
     ]
    },
    {
     "name": "stderr",
     "output_type": "stream",
     "text": [
      "08/11/2020 19:40:16 - INFO - allennlp.common.from_params -   instantiating class <class 'allennlp.data.dataset_readers.dataset_reader.DatasetReader'> from params {'context_size': 3, 'token_indexers': {'token_characters': {'min_padding_length': 3, 'type': 'characters'}, 'tokens': {'lowercase_tokens': True, 'type': 'single_id'}}, 'type': 'milu'} and extras set()\n",
      "08/11/2020 19:40:16 - INFO - allennlp.common.params -   dataset_reader.type = milu\n",
      "08/11/2020 19:40:16 - INFO - allennlp.common.from_params -   instantiating class <class 'convlab2.nlu.milu.dataset_reader.MILUDatasetReader'> from params {'context_size': 3, 'token_indexers': {'token_characters': {'min_padding_length': 3, 'type': 'characters'}, 'tokens': {'lowercase_tokens': True, 'type': 'single_id'}}} and extras set()\n",
      "08/11/2020 19:40:16 - INFO - allennlp.common.params -   dataset_reader.context_size = 3\n",
      "08/11/2020 19:40:16 - INFO - allennlp.common.params -   dataset_reader.agent = None\n",
      "08/11/2020 19:40:16 - INFO - allennlp.common.params -   dataset_reader.random_context_size = True\n",
      "08/11/2020 19:40:16 - INFO - allennlp.common.params -   dataset_reader.token_delimiter = None\n",
      "08/11/2020 19:40:16 - INFO - allennlp.common.from_params -   instantiating class <class 'allennlp.data.token_indexers.token_indexer.TokenIndexer'> from params {'min_padding_length': 3, 'type': 'characters'} and extras set()\n",
      "08/11/2020 19:40:16 - INFO - allennlp.common.params -   dataset_reader.token_indexers.token_characters.type = characters\n",
      "08/11/2020 19:40:16 - INFO - allennlp.common.from_params -   instantiating class <class 'allennlp.data.token_indexers.token_characters_indexer.TokenCharactersIndexer'> from params {'min_padding_length': 3} and extras set()\n",
      "08/11/2020 19:40:16 - INFO - allennlp.common.params -   dataset_reader.token_indexers.token_characters.namespace = token_characters\n",
      "08/11/2020 19:40:16 - INFO - allennlp.common.params -   dataset_reader.token_indexers.token_characters.start_tokens = None\n",
      "08/11/2020 19:40:16 - INFO - allennlp.common.params -   dataset_reader.token_indexers.token_characters.end_tokens = None\n",
      "08/11/2020 19:40:16 - INFO - allennlp.common.params -   dataset_reader.token_indexers.token_characters.min_padding_length = 3\n",
      "08/11/2020 19:40:16 - INFO - allennlp.common.params -   dataset_reader.token_indexers.token_characters.token_min_padding_length = 0\n",
      "08/11/2020 19:40:16 - INFO - allennlp.common.from_params -   instantiating class <class 'allennlp.data.token_indexers.token_indexer.TokenIndexer'> from params {'lowercase_tokens': True, 'type': 'single_id'} and extras set()\n",
      "08/11/2020 19:40:16 - INFO - allennlp.common.params -   dataset_reader.token_indexers.tokens.type = single_id\n",
      "08/11/2020 19:40:16 - INFO - allennlp.common.from_params -   instantiating class <class 'allennlp.data.token_indexers.single_id_token_indexer.SingleIdTokenIndexer'> from params {'lowercase_tokens': True} and extras set()\n",
      "08/11/2020 19:40:16 - INFO - allennlp.common.params -   dataset_reader.token_indexers.tokens.namespace = tokens\n",
      "08/11/2020 19:40:16 - INFO - allennlp.common.params -   dataset_reader.token_indexers.tokens.lowercase_tokens = True\n",
      "08/11/2020 19:40:16 - INFO - allennlp.common.params -   dataset_reader.token_indexers.tokens.start_tokens = None\n",
      "08/11/2020 19:40:16 - INFO - allennlp.common.params -   dataset_reader.token_indexers.tokens.end_tokens = None\n",
      "08/11/2020 19:40:16 - INFO - allennlp.common.params -   dataset_reader.token_indexers.tokens.token_min_padding_length = 0\n",
      "08/11/2020 19:40:16 - INFO - allennlp.common.params -   dataset_reader.lazy = False\n"
     ]
    }
   ],
   "source": [
    "# NLU+RuleDST:\n",
    "sys_nlu = MILU()\n",
    "# sys_nlu = SVMNLU()\n",
    "# sys_nlu = BERTNLU()\n",
    "sys_dst = RuleDST()\n",
    "\n",
    "# or Word-DST:\n",
    "# sys_nlu = None\n",
    "# sys_dst = SUMBT()\n",
    "# sys_dst = TRADE()\n",
    "#### (not working!) sys_dst = MDBT()\n",
    "\n",
    "# [Caution] In Word-DST case, sys_nlu must be \"None\"\n",
    "\n",
    "# Policy+NLG:\n",
    "sys_policy = RulePolicy()\n",
    "# sys_policy = PPOPolicy()\n",
    "# sys_policy = PGPolicy()\n",
    "# sys_policy = MLEPolicy()\n",
    "# sys_policy = GDPLPolicy()\n",
    "sys_nlg = TemplateNLG(is_user=False)\n",
    "#sys_nlg = SCLSTM(is_user=False)\n",
    "\n",
    "# or Word-Policy:\n",
    "# sys_policy = LaRL()\n",
    "# sys_policy = HDSA()\n",
    "# sys_policy = MDRGWordPolicy()\n",
    "# sys_nlg = None\n",
    "\n",
    "# [Caution] \"In Word-policy case, sys_nlg must be None\"\n",
    "\n",
    "sys_agent = PipelineAgent(sys_nlu, sys_dst, sys_policy, sys_nlg, 'sys')\n",
    "\n",
    "## End-to-End model\n",
    "# sys_agent = Sequicity()\n",
    "# sys_agent = Damd()\n"
   ]
  },
  {
   "cell_type": "markdown",
   "metadata": {},
   "source": [
    "아래 코드에는 user simulator가 정의되어 있습니다."
   ]
  },
  {
   "cell_type": "code",
   "execution_count": 5,
   "metadata": {
    "colab": {},
    "colab_type": "code",
    "id": "UkHpjvR5QezN",
    "tags": []
   },
   "outputs": [
    {
     "name": "stdout",
     "output_type": "stream",
     "text": [
      "load train, size 8434\n",
      "load val, size 999\n",
      "load test, size 1000\n",
      "loaded train, size 113500\n",
      "loaded val, size 14730\n",
      "loaded test, size 14744\n",
      "dialog act num: 36\n",
      "sentence label num: 137\n",
      "tag num: 331\n",
      "intent num: 137\n",
      "tag num: 331\n",
      "Load from model_file param\n",
      "Load from https://convlab.blob.core.windows.net/convlab-2/bert_multiwoz_all_context.zip\n"
     ]
    },
    {
     "name": "stderr",
     "output_type": "stream",
     "text": [
      "08/11/2020 19:40:42 - INFO - convlab2.util.allennlp_file_utils -   https://convlab.blob.core.windows.net/convlab-2/bert_multiwoz_all_context.zip not found in cache, downloading to /tmp/tmpktbx1jy_\n",
      "100%|██████████| 425713245/425713245 [05:30<00:00, 1289730.10B/s]\n",
      "08/11/2020 19:46:13 - INFO - convlab2.util.allennlp_file_utils -   copying /tmp/tmpktbx1jy_ to cache at /home/hanjy/.convlab2/cache/fe2b28201c498bb510ae89111e6bb1710a013c23920583adafc3f2b140376b90.4fbb3a3c9025fd8bc79740ec9ac9f931fb88de0cece837a569fba203fa3df2a0\n",
      "08/11/2020 19:46:13 - INFO - convlab2.util.allennlp_file_utils -   creating metadata file for /home/hanjy/.convlab2/cache/fe2b28201c498bb510ae89111e6bb1710a013c23920583adafc3f2b140376b90.4fbb3a3c9025fd8bc79740ec9ac9f931fb88de0cece837a569fba203fa3df2a0\n",
      "08/11/2020 19:46:13 - INFO - convlab2.util.allennlp_file_utils -   removing temp file /tmp/tmpktbx1jy_\n"
     ]
    },
    {
     "name": "stdout",
     "output_type": "stream",
     "text": [
      "Load from /home/hanjy/samsung/200814_test/200813_dialogue/samsung_ds_practice/ConvLab-2/convlab2/nlu/jointBERT/multiwoz/output/all_context/pytorch_model.bin\n",
      "bert-base-uncased\n"
     ]
    },
    {
     "name": "stderr",
     "output_type": "stream",
     "text": [
      "08/11/2020 19:46:18 - INFO - transformers.file_utils -   https://s3.amazonaws.com/models.huggingface.co/bert/bert-base-uncased-pytorch_model.bin not found in cache or force_download set to True, downloading to /tmp/tmpas7ga8g5\n",
      "08/11/2020 19:49:10 - INFO - transformers.file_utils -   copying /tmp/tmpas7ga8g5 to cache at /home/hanjy/.cache/torch/transformers/aa1ef1aede4482d0dbcd4d52baad8ae300e60902e88fcb0bebdec09afd232066.36ca03ab34a1a5d5fa7bc3d03d55c4fa650fed07220e2eeebc06ce58d0e9a157\n",
      "08/11/2020 19:49:10 - INFO - transformers.file_utils -   creating metadata file for /home/hanjy/.cache/torch/transformers/aa1ef1aede4482d0dbcd4d52baad8ae300e60902e88fcb0bebdec09afd232066.36ca03ab34a1a5d5fa7bc3d03d55c4fa650fed07220e2eeebc06ce58d0e9a157\n",
      "08/11/2020 19:49:10 - INFO - transformers.file_utils -   removing temp file /tmp/tmpas7ga8g5\n"
     ]
    },
    {
     "name": "stdout",
     "output_type": "stream",
     "text": [
      "BERTNLU loaded\n",
      "Loading goal model is done\n"
     ]
    }
   ],
   "source": [
    "user_nlu = BERTNLU()\n",
    "# user_nlu = MILU()\n",
    "# user_nlu = SVMNLU()\n",
    "user_dst = None\n",
    "user_policy = RulePolicy(character='usr')\n",
    "# user_policy = UserPolicyVHUS(load_from_zip=True)\n",
    "user_nlg = TemplateNLG(is_user=True)\n",
    "# user_nlg = SCLSTM(is_user=True)\n",
    "user_agent = PipelineAgent(user_nlu, user_dst, user_policy, user_nlg, name='user')"
   ]
  },
  {
   "cell_type": "markdown",
   "metadata": {},
   "source": [
    "아래 코드에는 analyzer 가 정의 되어 있습니다."
   ]
  },
  {
   "cell_type": "code",
   "execution_count": 6,
   "metadata": {
    "colab": {},
    "colab_type": "code",
    "id": "Hu2q3lQiSMDy",
    "tags": []
   },
   "outputs": [
    {
     "name": "stderr",
     "output_type": "stream",
     "text": [
      "dialogue:   5%|▌         | 1/20 [00:01<00:32,  1.72s/it]08/11/2020 19:52:47 - DEBUG - root -   Value not found in standard value set: [47932720631] (slot: phone domain: taxi)\n",
      "08/11/2020 19:52:47 - DEBUG - root -   Value not found in standard value set: [57253443034] (slot: phone domain: taxi)\n",
      "08/11/2020 19:52:47 - DEBUG - root -   Value not found in standard value set: [31316650087] (slot: phone domain: taxi)\n",
      "08/11/2020 19:52:47 - DEBUG - root -   Value not found in standard value set: [85878627496] (slot: phone domain: taxi)\n",
      "08/11/2020 19:52:47 - DEBUG - root -   Value not found in standard value set: [07233561887] (slot: phone domain: taxi)\n",
      "08/11/2020 19:52:47 - DEBUG - root -   Value not found in standard value set: [17343656291] (slot: phone domain: taxi)\n",
      "08/11/2020 19:52:48 - DEBUG - root -   Value not found in standard value set: [65450290121] (slot: phone domain: taxi)\n",
      "08/11/2020 19:52:48 - DEBUG - root -   Value not found in standard value set: [87288110405] (slot: phone domain: taxi)\n",
      "08/11/2020 19:52:48 - DEBUG - root -   Value not found in standard value set: [32650524200] (slot: phone domain: taxi)\n",
      "08/11/2020 19:52:48 - DEBUG - root -   Value not found in standard value set: [67804874195] (slot: phone domain: taxi)\n",
      "08/11/2020 19:52:48 - DEBUG - root -   Value not found in standard value set: [25994645825] (slot: phone domain: taxi)\n",
      "08/11/2020 19:52:48 - DEBUG - root -   Value not found in standard value set: [51707383217] (slot: phone domain: taxi)\n",
      "08/11/2020 19:52:48 - DEBUG - root -   Value not found in standard value set: [65504920416] (slot: phone domain: taxi)\n",
      "08/11/2020 19:52:48 - DEBUG - root -   Value not found in standard value set: [18407935217] (slot: phone domain: taxi)\n",
      "dialogue:  15%|█▌        | 3/20 [00:03<00:21,  1.25s/it]08/11/2020 19:52:48 - DEBUG - root -   Value not found in standard value set: [66] (slot: price domain: train)\n",
      "dialogue:  25%|██▌       | 5/20 [00:04<00:14,  1.04it/s]08/11/2020 19:52:49 - DEBUG - root -   Value not found in standard value set: [16599984273] (slot: phone domain: taxi)\n",
      "08/11/2020 19:52:49 - DEBUG - root -   Value not found in standard value set: [73545115219] (slot: phone domain: taxi)\n",
      "08/11/2020 19:52:49 - DEBUG - root -   Value not found in standard value set: [49658361436] (slot: phone domain: taxi)\n",
      "08/11/2020 19:52:49 - DEBUG - root -   Value not found in standard value set: [84820041884] (slot: phone domain: taxi)\n",
      "08/11/2020 19:52:49 - DEBUG - root -   Value not found in standard value set: [79220920205] (slot: phone domain: taxi)\n",
      "08/11/2020 19:52:49 - DEBUG - root -   Value not found in standard value set: [08329098485] (slot: phone domain: taxi)\n",
      "08/11/2020 19:52:50 - DEBUG - root -   Value not found in standard value set: [91405620737] (slot: phone domain: taxi)\n",
      "08/11/2020 19:52:50 - DEBUG - root -   Value not found in standard value set: [09130565871] (slot: phone domain: taxi)\n",
      "08/11/2020 19:52:50 - DEBUG - root -   Value not found in standard value set: [10180974450] (slot: phone domain: taxi)\n",
      "08/11/2020 19:52:50 - DEBUG - root -   Value not found in standard value set: [90925216566] (slot: phone domain: taxi)\n",
      "dialogue:  30%|███       | 6/20 [00:05<00:13,  1.00it/s]08/11/2020 19:52:50 - DEBUG - root -   Value not found in standard value set: [saturday] (slot: leaveAt domain: train)\n",
      "08/11/2020 19:52:50 - DEBUG - root -   Value not found in standard value set: [NOOFFER] (slot: departure domain: train)\n",
      "08/11/2020 19:52:50 - DEBUG - root -   Value not found in standard value set: [Dest] (slot: departure domain: train)\n",
      "dialogue:  50%|█████     | 10/20 [00:06<00:04,  2.06it/s]08/11/2020 19:52:51 - DEBUG - root -   Value not found in standard value set: [in town] (slot: area domain: restaurant)\n",
      "dialogue:  85%|████████▌ | 17/20 [00:08<00:01,  2.75it/s]08/11/2020 19:52:54 - DEBUG - root -   Value not found in standard value set: [85939446618] (slot: phone domain: taxi)\n",
      "08/11/2020 19:52:54 - DEBUG - root -   Value not found in standard value set: [39936927982] (slot: phone domain: taxi)\n",
      "08/11/2020 19:52:54 - DEBUG - root -   Value not found in standard value set: [84722864780] (slot: phone domain: taxi)\n",
      "08/11/2020 19:52:54 - DEBUG - root -   Value not found in standard value set: [27871012383] (slot: phone domain: taxi)\n",
      "08/11/2020 19:52:54 - DEBUG - root -   Value not found in standard value set: [29195858899] (slot: phone domain: taxi)\n",
      "08/11/2020 19:52:54 - DEBUG - root -   Value not found in standard value set: [82127923600] (slot: phone domain: taxi)\n",
      "08/11/2020 19:52:54 - DEBUG - root -   Value not found in standard value set: [61388749070] (slot: phone domain: taxi)\n",
      "08/11/2020 19:52:54 - DEBUG - root -   Value not found in standard value set: [64125283932] (slot: phone domain: taxi)\n",
      "08/11/2020 19:52:55 - DEBUG - root -   Value not found in standard value set: [45516280473] (slot: phone domain: taxi)\n",
      "08/11/2020 19:52:55 - DEBUG - root -   Value not found in standard value set: [43442327423] (slot: phone domain: taxi)\n",
      "08/11/2020 19:52:55 - DEBUG - root -   Value not found in standard value set: [25837492007] (slot: phone domain: taxi)\n",
      "08/11/2020 19:52:55 - DEBUG - root -   Value not found in standard value set: [80253096866] (slot: phone domain: taxi)\n",
      "08/11/2020 19:52:55 - DEBUG - root -   Value not found in standard value set: [99792634644] (slot: phone domain: taxi)\n",
      "08/11/2020 19:52:55 - DEBUG - root -   Value not found in standard value set: [96522664134] (slot: phone domain: taxi)\n",
      "dialogue:  90%|█████████ | 18/20 [00:10<00:01,  1.37it/s]08/11/2020 19:52:55 - DEBUG - root -   Value not found in standard value set: [96864220773] (slot: phone domain: taxi)\n",
      "08/11/2020 19:52:55 - DEBUG - root -   Value not found in standard value set: [46903350176] (slot: phone domain: taxi)\n",
      "08/11/2020 19:52:56 - DEBUG - root -   Value not found in standard value set: [64685146323] (slot: phone domain: taxi)\n",
      "08/11/2020 19:52:56 - DEBUG - root -   Value not found in standard value set: [46109889972] (slot: phone domain: taxi)\n",
      "08/11/2020 19:52:56 - DEBUG - root -   Value not found in standard value set: [65908813256] (slot: phone domain: taxi)\n",
      "08/11/2020 19:52:56 - DEBUG - root -   Value not found in standard value set: [47403647789] (slot: phone domain: taxi)\n",
      "08/11/2020 19:52:56 - DEBUG - root -   Value not found in standard value set: [21559125785] (slot: phone domain: taxi)\n",
      "08/11/2020 19:52:56 - DEBUG - root -   Value not found in standard value set: [97273996269] (slot: phone domain: taxi)\n",
      "08/11/2020 19:52:56 - DEBUG - root -   Value not found in standard value set: [04480428708] (slot: phone domain: taxi)\n",
      "08/11/2020 19:52:56 - DEBUG - root -   Value not found in standard value set: [86794794823] (slot: phone domain: taxi)\n",
      "08/11/2020 19:52:56 - DEBUG - root -   Value not found in standard value set: [73986571951] (slot: phone domain: taxi)\n",
      "08/11/2020 19:52:56 - DEBUG - root -   Value not found in standard value set: [91595639954] (slot: phone domain: taxi)\n",
      "08/11/2020 19:52:56 - DEBUG - root -   Value not found in standard value set: [42110591073] (slot: phone domain: taxi)\n",
      "08/11/2020 19:52:56 - DEBUG - root -   Value not found in standard value set: [20734023996] (slot: phone domain: taxi)\n",
      "08/11/2020 19:52:56 - DEBUG - root -   Value not found in standard value set: [26091778855] (slot: phone domain: taxi)\n",
      "08/11/2020 19:52:56 - DEBUG - root -   Value not found in standard value set: [77777216401] (slot: phone domain: taxi)\n",
      "dialogue: 100%|██████████| 20/20 [00:12<00:00,  1.61it/s]\n"
     ]
    },
    {
     "name": "stdout",
     "output_type": "stream",
     "text": [
      "====================================================================================================\n",
      "complete number of dialogs/tot: 0.65\n",
      "success number of dialogs/tot: 0.6\n",
      "average precision: 0.7517857142857143\n",
      "average recall: 0.7775000000000001\n",
      "average f1: 0.754532967032967\n",
      "average book rate: 0.8333333333333333\n",
      "average turn (succ): 14.5\n",
      "average turn (all): 18.7\n",
      "====================================================================================================\n"
     ]
    },
    {
     "data": {
      "text/plain": [
       "(0.65,\n",
       " 0.6,\n",
       " 0.7517857142857143,\n",
       " 0.7775000000000001,\n",
       " 0.754532967032967,\n",
       " 0.8333333333333333,\n",
       " 18.7)"
      ]
     },
     "execution_count": 6,
     "metadata": {},
     "output_type": "execute_result"
    }
   ],
   "source": [
    "from convlab2.util.analysis_tool.analyzer import Analyzer\n",
    "\n",
    "# if sys_nlu!=None, set use_nlu=True to collect more information\n",
    "analyzer = Analyzer(user_agent=user_agent, dataset='multiwoz')\n",
    "\n",
    "set_seed(20200131)\n",
    "analyzer.comprehensive_analyze(sys_agent=sys_agent, model_name='sys_agent', total_dialog=20)"
   ]
  },
  {
   "cell_type": "markdown",
   "metadata": {},
   "source": [
    "## \\[실습문제] Success Rate를 기준으로 상위 3가지 모델을 찾고, 아래 표를 완성하세요.\n",
    "\n",
    "\\[힌트] 여러개의 system agent를 만들고 아래의 코드를 활용해 한번에 돌리실 수 있습니다.\n",
    "\n",
    "\\[주의] 실습과제 제출시 실행기록을 반드시 남겨서 제출해야 합니다.\n",
    "\n",
    "\n",
    "Rank      | NLU       | DST       | Policy    | NLG          | Success rate | Book rate | Inform P | Inform R | Inform F1 | Turn(succ/all) |\n",
    "--------- | --------- | --------- | --------- | :----------: | :----------: | --------- | -------- | --------- | -------- | -------------- |\n",
    "1         | -         | -         | -         | -            | -            | -         | -        | -         | -        | -              |\n",
    "2         | -         | -         | -         | -            | -            | -         | -        | -         | -        | -              |\n",
    "3         | -         | -         | -         | -            | -            | -         | -        | -         | -        | -              |"
   ]
  },
  {
   "cell_type": "code",
   "execution_count": 7,
   "metadata": {
    "colab": {},
    "colab_type": "code",
    "id": "GKe_DNJUlWzh",
    "tags": []
   },
   "outputs": [
    {
     "name": "stderr",
     "output_type": "stream",
     "text": [
      "dialogue:  10%|█         | 2/20 [00:01<00:22,  1.25s/it]08/11/2020 19:53:50 - DEBUG - root -   Value not found in standard value set: [close to the area] (slot: area domain: attraction)\n",
      "08/11/2020 19:53:50 - DEBUG - root -   Value not found in standard value set: [77120259724] (slot: phone domain: taxi)\n",
      "dialogue:  35%|███▌      | 7/20 [00:03<00:06,  2.02it/s]08/11/2020 19:53:52 - DEBUG - root -   Value not found in standard value set: [48982244314] (slot: phone domain: taxi)\n",
      "08/11/2020 19:53:52 - DEBUG - root -   Value not found in standard value set: [53867201446] (slot: phone domain: taxi)\n",
      "08/11/2020 19:53:52 - DEBUG - root -   Value not found in standard value set: [98828955959] (slot: phone domain: taxi)\n",
      "08/11/2020 19:53:52 - DEBUG - root -   Value not found in standard value set: [49126467648] (slot: phone domain: taxi)\n",
      "08/11/2020 19:53:52 - DEBUG - root -   Value not found in standard value set: [98221217960] (slot: phone domain: taxi)\n",
      "08/11/2020 19:53:52 - DEBUG - root -   Value not found in standard value set: [78689482332] (slot: phone domain: taxi)\n",
      "08/11/2020 19:53:52 - DEBUG - root -   Value not found in standard value set: [77317128796] (slot: phone domain: taxi)\n",
      "08/11/2020 19:53:52 - DEBUG - root -   Value not found in standard value set: [39594939499] (slot: phone domain: taxi)\n",
      "08/11/2020 19:53:52 - DEBUG - root -   Value not found in standard value set: [76391563201] (slot: phone domain: taxi)\n",
      "08/11/2020 19:53:52 - DEBUG - root -   Value not found in standard value set: [71578880608] (slot: phone domain: taxi)\n",
      "08/11/2020 19:53:52 - DEBUG - root -   Value not found in standard value set: [47127077702] (slot: phone domain: taxi)\n",
      "08/11/2020 19:53:52 - DEBUG - root -   Value not found in standard value set: [07809892085] (slot: phone domain: taxi)\n",
      "08/11/2020 19:53:52 - DEBUG - root -   Value not found in standard value set: [20902911618] (slot: phone domain: taxi)\n",
      "08/11/2020 19:53:53 - DEBUG - root -   Value not found in standard value set: [92943853419] (slot: phone domain: taxi)\n",
      "dialogue:  40%|████      | 8/20 [00:05<00:08,  1.36it/s]08/11/2020 19:53:53 - DEBUG - root -   Value not found in standard value set: [66] (slot: price domain: train)\n",
      "dialogue:  45%|████▌     | 9/20 [00:05<00:06,  1.73it/s]08/11/2020 19:53:53 - DEBUG - root -   Value not found in standard value set: [89139319136] (slot: phone domain: taxi)\n",
      "08/11/2020 19:53:53 - DEBUG - root -   Value not found in standard value set: [41736399260] (slot: phone domain: taxi)\n",
      "08/11/2020 19:53:53 - DEBUG - root -   Value not found in standard value set: [75391160417] (slot: phone domain: taxi)\n",
      "08/11/2020 19:53:53 - DEBUG - root -   Value not found in standard value set: [62484840242] (slot: phone domain: taxi)\n",
      "08/11/2020 19:53:53 - DEBUG - root -   Value not found in standard value set: [88149917816] (slot: phone domain: taxi)\n",
      "08/11/2020 19:53:54 - DEBUG - root -   Value not found in standard value set: [90633349195] (slot: phone domain: taxi)\n",
      "08/11/2020 19:53:54 - DEBUG - root -   Value not found in standard value set: [11714541710] (slot: phone domain: taxi)\n",
      "08/11/2020 19:53:54 - DEBUG - root -   Value not found in standard value set: [65453084940] (slot: phone domain: taxi)\n",
      "08/11/2020 19:53:54 - DEBUG - root -   Value not found in standard value set: [12725429607] (slot: phone domain: taxi)\n",
      "08/11/2020 19:53:54 - DEBUG - root -   Value not found in standard value set: [17334578698] (slot: phone domain: taxi)\n",
      "08/11/2020 19:53:54 - DEBUG - root -   Value not found in standard value set: [25362753391] (slot: phone domain: taxi)\n",
      "dialogue:  80%|████████  | 16/20 [00:09<00:02,  1.91it/s]08/11/2020 19:53:57 - DEBUG - root -   Value not found in standard value set: [79266407324] (slot: phone domain: taxi)\n",
      "08/11/2020 19:53:57 - DEBUG - root -   Value not found in standard value set: [75449312555] (slot: phone domain: taxi)\n",
      "08/11/2020 19:53:57 - DEBUG - root -   Value not found in standard value set: [33634562505] (slot: phone domain: taxi)\n",
      "08/11/2020 19:53:57 - DEBUG - root -   Value not found in standard value set: [11929746608] (slot: phone domain: taxi)\n",
      "08/11/2020 19:53:57 - DEBUG - root -   Value not found in standard value set: [55524728944] (slot: phone domain: taxi)\n",
      "08/11/2020 19:53:58 - DEBUG - root -   Value not found in standard value set: [38264966484] (slot: phone domain: taxi)\n",
      "08/11/2020 19:53:58 - DEBUG - root -   Value not found in standard value set: [45443330205] (slot: phone domain: taxi)\n",
      "08/11/2020 19:53:58 - DEBUG - root -   Value not found in standard value set: [56848351032] (slot: phone domain: taxi)\n",
      "08/11/2020 19:53:58 - DEBUG - root -   Value not found in standard value set: [06855193033] (slot: phone domain: taxi)\n",
      "08/11/2020 19:53:58 - DEBUG - root -   Value not found in standard value set: [91956807682] (slot: phone domain: taxi)\n",
      "08/11/2020 19:53:58 - DEBUG - root -   Value not found in standard value set: [90007426821] (slot: phone domain: taxi)\n",
      "08/11/2020 19:53:58 - DEBUG - root -   Value not found in standard value set: [65051011505] (slot: phone domain: taxi)\n",
      "08/11/2020 19:53:58 - DEBUG - root -   Value not found in standard value set: [16839642336] (slot: phone domain: taxi)\n",
      "dialogue:  90%|█████████ | 18/20 [00:11<00:01,  1.40it/s]08/11/2020 19:53:59 - DEBUG - root -   Value not found in standard value set: [66] (slot: price domain: train)\n",
      "dialogue: 100%|██████████| 20/20 [00:11<00:00,  1.73it/s]\n"
     ]
    },
    {
     "name": "stdout",
     "output_type": "stream",
     "text": [
      "====================================================================================================\n",
      "complete number of dialogs/tot: 0.7\n",
      "success number of dialogs/tot: 0.7\n",
      "average precision: 0.8412280701754387\n",
      "average recall: 0.9061403508771931\n",
      "average f1: 0.8346624136097819\n",
      "average book rate: 0.7142857142857143\n",
      "average turn (succ): 10.285714285714286\n",
      "average turn (all): 18.5\n",
      "====================================================================================================\n"
     ]
    },
    {
     "name": "stderr",
     "output_type": "stream",
     "text": [
      "dialogue:  10%|█         | 2/20 [00:01<00:16,  1.10it/s]08/11/2020 19:54:02 - DEBUG - root -   Value not found in standard value set: [close to the area] (slot: area domain: attraction)\n",
      "08/11/2020 19:54:03 - DEBUG - root -   Value not found in standard value set: [77120259724] (slot: phone domain: taxi)\n",
      "dialogue:  35%|███▌      | 7/20 [00:03<00:06,  1.98it/s]08/11/2020 19:54:05 - DEBUG - root -   Value not found in standard value set: [48982244314] (slot: phone domain: taxi)\n",
      "08/11/2020 19:54:05 - DEBUG - root -   Value not found in standard value set: [53867201446] (slot: phone domain: taxi)\n",
      "08/11/2020 19:54:05 - DEBUG - root -   Value not found in standard value set: [98828955959] (slot: phone domain: taxi)\n",
      "08/11/2020 19:54:05 - DEBUG - root -   Value not found in standard value set: [49126467648] (slot: phone domain: taxi)\n",
      "08/11/2020 19:54:05 - DEBUG - root -   Value not found in standard value set: [98221217960] (slot: phone domain: taxi)\n",
      "08/11/2020 19:54:05 - DEBUG - root -   Value not found in standard value set: [78689482332] (slot: phone domain: taxi)\n",
      "08/11/2020 19:54:05 - DEBUG - root -   Value not found in standard value set: [77317128796] (slot: phone domain: taxi)\n",
      "08/11/2020 19:54:05 - DEBUG - root -   Value not found in standard value set: [39594939499] (slot: phone domain: taxi)\n",
      "08/11/2020 19:54:05 - DEBUG - root -   Value not found in standard value set: [76391563201] (slot: phone domain: taxi)\n",
      "08/11/2020 19:54:05 - DEBUG - root -   Value not found in standard value set: [71578880608] (slot: phone domain: taxi)\n",
      "08/11/2020 19:54:05 - DEBUG - root -   Value not found in standard value set: [47127077702] (slot: phone domain: taxi)\n",
      "08/11/2020 19:54:05 - DEBUG - root -   Value not found in standard value set: [07809892085] (slot: phone domain: taxi)\n",
      "08/11/2020 19:54:05 - DEBUG - root -   Value not found in standard value set: [20902911618] (slot: phone domain: taxi)\n",
      "08/11/2020 19:54:05 - DEBUG - root -   Value not found in standard value set: [92943853419] (slot: phone domain: taxi)\n",
      "dialogue:  40%|████      | 8/20 [00:04<00:08,  1.37it/s]08/11/2020 19:54:05 - DEBUG - root -   Value not found in standard value set: [66] (slot: price domain: train)\n",
      "dialogue:  45%|████▌     | 9/20 [00:04<00:06,  1.77it/s]08/11/2020 19:54:06 - DEBUG - root -   Value not found in standard value set: [89139319136] (slot: phone domain: taxi)\n",
      "08/11/2020 19:54:06 - DEBUG - root -   Value not found in standard value set: [41736399260] (slot: phone domain: taxi)\n",
      "08/11/2020 19:54:06 - DEBUG - root -   Value not found in standard value set: [75391160417] (slot: phone domain: taxi)\n",
      "08/11/2020 19:54:06 - DEBUG - root -   Value not found in standard value set: [62484840242] (slot: phone domain: taxi)\n",
      "08/11/2020 19:54:06 - DEBUG - root -   Value not found in standard value set: [88149917816] (slot: phone domain: taxi)\n",
      "08/11/2020 19:54:06 - DEBUG - root -   Value not found in standard value set: [90633349195] (slot: phone domain: taxi)\n",
      "08/11/2020 19:54:06 - DEBUG - root -   Value not found in standard value set: [11714541710] (slot: phone domain: taxi)\n",
      "08/11/2020 19:54:06 - DEBUG - root -   Value not found in standard value set: [65453084940] (slot: phone domain: taxi)\n",
      "08/11/2020 19:54:06 - DEBUG - root -   Value not found in standard value set: [12725429607] (slot: phone domain: taxi)\n",
      "08/11/2020 19:54:06 - DEBUG - root -   Value not found in standard value set: [17334578698] (slot: phone domain: taxi)\n",
      "08/11/2020 19:54:06 - DEBUG - root -   Value not found in standard value set: [25362753391] (slot: phone domain: taxi)\n",
      "dialogue:  80%|████████  | 16/20 [00:08<00:01,  2.12it/s]08/11/2020 19:54:10 - DEBUG - root -   Value not found in standard value set: [79266407324] (slot: phone domain: taxi)\n",
      "08/11/2020 19:54:10 - DEBUG - root -   Value not found in standard value set: [75449312555] (slot: phone domain: taxi)\n",
      "08/11/2020 19:54:10 - DEBUG - root -   Value not found in standard value set: [33634562505] (slot: phone domain: taxi)\n",
      "08/11/2020 19:54:10 - DEBUG - root -   Value not found in standard value set: [11929746608] (slot: phone domain: taxi)\n",
      "08/11/2020 19:54:10 - DEBUG - root -   Value not found in standard value set: [55524728944] (slot: phone domain: taxi)\n",
      "08/11/2020 19:54:10 - DEBUG - root -   Value not found in standard value set: [38264966484] (slot: phone domain: taxi)\n",
      "08/11/2020 19:54:10 - DEBUG - root -   Value not found in standard value set: [45443330205] (slot: phone domain: taxi)\n",
      "08/11/2020 19:54:10 - DEBUG - root -   Value not found in standard value set: [56848351032] (slot: phone domain: taxi)\n",
      "08/11/2020 19:54:10 - DEBUG - root -   Value not found in standard value set: [06855193033] (slot: phone domain: taxi)\n",
      "08/11/2020 19:54:10 - DEBUG - root -   Value not found in standard value set: [91956807682] (slot: phone domain: taxi)\n",
      "08/11/2020 19:54:10 - DEBUG - root -   Value not found in standard value set: [90007426821] (slot: phone domain: taxi)\n",
      "08/11/2020 19:54:11 - DEBUG - root -   Value not found in standard value set: [65051011505] (slot: phone domain: taxi)\n",
      "08/11/2020 19:54:11 - DEBUG - root -   Value not found in standard value set: [16839642336] (slot: phone domain: taxi)\n",
      "dialogue:  90%|█████████ | 18/20 [00:10<00:01,  1.68it/s]08/11/2020 19:54:11 - DEBUG - root -   Value not found in standard value set: [66] (slot: price domain: train)\n",
      "dialogue: 100%|██████████| 20/20 [00:10<00:00,  1.86it/s]\n"
     ]
    },
    {
     "name": "stdout",
     "output_type": "stream",
     "text": [
      "====================================================================================================\n",
      "complete number of dialogs/tot: 0.7\n",
      "success number of dialogs/tot: 0.7\n",
      "average precision: 0.8412280701754387\n",
      "average recall: 0.9061403508771931\n",
      "average f1: 0.8346624136097819\n",
      "average book rate: 0.7142857142857143\n",
      "average turn (succ): 10.285714285714286\n",
      "average turn (all): 18.5\n",
      "====================================================================================================\n"
     ]
    },
    {
     "name": "stderr",
     "output_type": "stream",
     "text": [
      "dialogue:  10%|█         | 2/20 [00:01<00:15,  1.16it/s]08/11/2020 19:54:14 - DEBUG - root -   Value not found in standard value set: [close to the area] (slot: area domain: attraction)\n",
      "08/11/2020 19:54:15 - DEBUG - root -   Value not found in standard value set: [77120259724] (slot: phone domain: taxi)\n",
      "dialogue:  35%|███▌      | 7/20 [00:03<00:05,  2.17it/s]08/11/2020 19:54:17 - DEBUG - root -   Value not found in standard value set: [48982244314] (slot: phone domain: taxi)\n",
      "08/11/2020 19:54:17 - DEBUG - root -   Value not found in standard value set: [53867201446] (slot: phone domain: taxi)\n",
      "08/11/2020 19:54:17 - DEBUG - root -   Value not found in standard value set: [98828955959] (slot: phone domain: taxi)\n",
      "08/11/2020 19:54:17 - DEBUG - root -   Value not found in standard value set: [49126467648] (slot: phone domain: taxi)\n",
      "08/11/2020 19:54:17 - DEBUG - root -   Value not found in standard value set: [98221217960] (slot: phone domain: taxi)\n",
      "08/11/2020 19:54:17 - DEBUG - root -   Value not found in standard value set: [78689482332] (slot: phone domain: taxi)\n",
      "08/11/2020 19:54:17 - DEBUG - root -   Value not found in standard value set: [77317128796] (slot: phone domain: taxi)\n",
      "08/11/2020 19:54:17 - DEBUG - root -   Value not found in standard value set: [39594939499] (slot: phone domain: taxi)\n",
      "08/11/2020 19:54:17 - DEBUG - root -   Value not found in standard value set: [76391563201] (slot: phone domain: taxi)\n",
      "08/11/2020 19:54:17 - DEBUG - root -   Value not found in standard value set: [71578880608] (slot: phone domain: taxi)\n",
      "08/11/2020 19:54:17 - DEBUG - root -   Value not found in standard value set: [47127077702] (slot: phone domain: taxi)\n",
      "08/11/2020 19:54:17 - DEBUG - root -   Value not found in standard value set: [07809892085] (slot: phone domain: taxi)\n",
      "08/11/2020 19:54:17 - DEBUG - root -   Value not found in standard value set: [20902911618] (slot: phone domain: taxi)\n",
      "08/11/2020 19:54:18 - DEBUG - root -   Value not found in standard value set: [92943853419] (slot: phone domain: taxi)\n",
      "dialogue:  40%|████      | 8/20 [00:04<00:08,  1.43it/s]08/11/2020 19:54:18 - DEBUG - root -   Value not found in standard value set: [66] (slot: price domain: train)\n",
      "dialogue:  45%|████▌     | 9/20 [00:04<00:06,  1.74it/s]08/11/2020 19:54:18 - DEBUG - root -   Value not found in standard value set: [89139319136] (slot: phone domain: taxi)\n",
      "08/11/2020 19:54:19 - DEBUG - root -   Value not found in standard value set: [41736399260] (slot: phone domain: taxi)\n",
      "08/11/2020 19:54:19 - DEBUG - root -   Value not found in standard value set: [75391160417] (slot: phone domain: taxi)\n",
      "08/11/2020 19:54:19 - DEBUG - root -   Value not found in standard value set: [62484840242] (slot: phone domain: taxi)\n",
      "08/11/2020 19:54:19 - DEBUG - root -   Value not found in standard value set: [88149917816] (slot: phone domain: taxi)\n",
      "08/11/2020 19:54:19 - DEBUG - root -   Value not found in standard value set: [90633349195] (slot: phone domain: taxi)\n",
      "08/11/2020 19:54:19 - DEBUG - root -   Value not found in standard value set: [11714541710] (slot: phone domain: taxi)\n",
      "08/11/2020 19:54:19 - DEBUG - root -   Value not found in standard value set: [65453084940] (slot: phone domain: taxi)\n",
      "08/11/2020 19:54:19 - DEBUG - root -   Value not found in standard value set: [12725429607] (slot: phone domain: taxi)\n",
      "08/11/2020 19:54:19 - DEBUG - root -   Value not found in standard value set: [17334578698] (slot: phone domain: taxi)\n",
      "08/11/2020 19:54:19 - DEBUG - root -   Value not found in standard value set: [25362753391] (slot: phone domain: taxi)\n",
      "dialogue:  80%|████████  | 16/20 [00:09<00:02,  1.85it/s]08/11/2020 19:54:23 - DEBUG - root -   Value not found in standard value set: [79266407324] (slot: phone domain: taxi)\n",
      "08/11/2020 19:54:23 - DEBUG - root -   Value not found in standard value set: [75449312555] (slot: phone domain: taxi)\n",
      "08/11/2020 19:54:23 - DEBUG - root -   Value not found in standard value set: [33634562505] (slot: phone domain: taxi)\n",
      "08/11/2020 19:54:23 - DEBUG - root -   Value not found in standard value set: [11929746608] (slot: phone domain: taxi)\n",
      "08/11/2020 19:54:23 - DEBUG - root -   Value not found in standard value set: [55524728944] (slot: phone domain: taxi)\n",
      "08/11/2020 19:54:23 - DEBUG - root -   Value not found in standard value set: [38264966484] (slot: phone domain: taxi)\n",
      "08/11/2020 19:54:23 - DEBUG - root -   Value not found in standard value set: [45443330205] (slot: phone domain: taxi)\n",
      "08/11/2020 19:54:23 - DEBUG - root -   Value not found in standard value set: [56848351032] (slot: phone domain: taxi)\n",
      "08/11/2020 19:54:23 - DEBUG - root -   Value not found in standard value set: [06855193033] (slot: phone domain: taxi)\n",
      "08/11/2020 19:54:23 - DEBUG - root -   Value not found in standard value set: [91956807682] (slot: phone domain: taxi)\n",
      "08/11/2020 19:54:24 - DEBUG - root -   Value not found in standard value set: [90007426821] (slot: phone domain: taxi)\n",
      "08/11/2020 19:54:24 - DEBUG - root -   Value not found in standard value set: [65051011505] (slot: phone domain: taxi)\n",
      "08/11/2020 19:54:24 - DEBUG - root -   Value not found in standard value set: [16839642336] (slot: phone domain: taxi)\n",
      "dialogue:  90%|█████████ | 18/20 [00:11<00:01,  1.31it/s]08/11/2020 19:54:24 - DEBUG - root -   Value not found in standard value set: [66] (slot: price domain: train)\n",
      "dialogue: 100%|██████████| 20/20 [00:12<00:00,  1.66it/s]\n"
     ]
    },
    {
     "name": "stdout",
     "output_type": "stream",
     "text": [
      "====================================================================================================\n",
      "complete number of dialogs/tot: 0.7\n",
      "success number of dialogs/tot: 0.7\n",
      "average precision: 0.8412280701754387\n",
      "average recall: 0.9061403508771931\n",
      "average f1: 0.8346624136097819\n",
      "average book rate: 0.7142857142857143\n",
      "average turn (succ): 10.285714285714286\n",
      "average turn (all): 18.5\n",
      "====================================================================================================\n"
     ]
    }
   ],
   "source": [
    "set_seed(20200805)\n",
    "\n",
    "# define your own system agent2\n",
    "# sys_agent2 = PipelineAgent(...)\n",
    "\n",
    "# define your own system agent3\n",
    "# sys_agent3 = PipelineAgent(...)\n",
    "\n",
    "\n",
    "# [Hint] You can append sys_agent model as much as you want!!\n",
    "analyzer.compare_models(agent_list=[sys_agent, sys_agent, sys_agent], model_name=['sys_agent1', 'sys_agent2', 'sys_agent3'], total_dialog=20)"
   ]
  },
  {
   "cell_type": "markdown",
   "metadata": {},
   "source": []
  }
 ],
 "metadata": {
  "colab": {
   "collapsed_sections": [],
   "name": "Tutorial",
   "provenance": [],
   "toc_visible": true
  },
  "kernelspec": {
   "display_name": "0813_dialogue_system",
   "language": "python",
   "name": "0813_dialogue_system_v5"
  },
  "language_info": {
   "codemirror_mode": {
    "name": "ipython",
    "version": 3
   },
   "file_extension": ".py",
   "mimetype": "text/x-python",
   "name": "python",
   "nbconvert_exporter": "python",
   "pygments_lexer": "ipython3",
   "version": "3.7.7"
  }
 },
 "nbformat": 4,
 "nbformat_minor": 1
}
